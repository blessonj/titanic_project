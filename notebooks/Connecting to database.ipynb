{
 "cells": [
  {
   "cell_type": "code",
   "execution_count": 7,
   "metadata": {},
   "outputs": [
    {
     "name": "stdout",
     "output_type": "stream",
     "text": [
      "['C:\\\\dsa_role\\\\pluralsight\\\\DataScience\\\\python-data-science\\\\module2\\\\titanic\\\\notebooks', 'C:\\\\ProgramData\\\\Anaconda3\\\\python37.zip', 'C:\\\\ProgramData\\\\Anaconda3\\\\DLLs', 'C:\\\\ProgramData\\\\Anaconda3\\\\lib', 'C:\\\\ProgramData\\\\Anaconda3', '', 'C:\\\\ProgramData\\\\Anaconda3\\\\lib\\\\site-packages', 'C:\\\\ProgramData\\\\Anaconda3\\\\lib\\\\site-packages\\\\win32', 'C:\\\\ProgramData\\\\Anaconda3\\\\lib\\\\site-packages\\\\win32\\\\lib', 'C:\\\\ProgramData\\\\Anaconda3\\\\lib\\\\site-packages\\\\Pythonwin', 'C:\\\\ProgramData\\\\Anaconda3\\\\lib\\\\site-packages\\\\IPython\\\\extensions', 'C:\\\\Users\\\\blessonj\\\\.ipython', 'C:\\\\ProgramData\\\\Anaconda3\\\\Scripts', 'C:\\\\ProgramData\\\\Anaconda3\\\\condabin']\n"
     ]
    }
   ],
   "source": [
    "import os;\n",
    "import sys;\n",
    "sys.executable\n",
    "print(sys.path);\n",
    "sys.path.append('C:\\\\ProgramData\\\\Anaconda3\\\\Scripts');\n",
    "sys.path.append('C:\\\\ProgramData\\\\Anaconda3\\\\condabin');\n",
    "sys.path.append('C:\\\\ProgramData\\\\Anaconda3');"
   ]
  },
  {
   "cell_type": "code",
   "execution_count": 5,
   "metadata": {},
   "outputs": [
    {
     "name": "stdout",
     "output_type": "stream",
     "text": [
      "Collecting pymssql\n",
      "  Downloading https://files.pythonhosted.org/packages/45/0c/81bf31194f4dc0ee06b429efe98ce2fc202876cd4749f95bddfb9f3b0a50/pymssql-2.1.4-cp37-cp37m-win_amd64.whl (411kB)\n",
      "Installing collected packages: pymssql\n",
      "Successfully installed pymssql-2.1.4\n"
     ]
    }
   ],
   "source": [
    "!pip install pymssql"
   ]
  },
  {
   "cell_type": "code",
   "execution_count": 10,
   "metadata": {},
   "outputs": [
    {
     "name": "stdout",
     "output_type": "stream",
     "text": [
      "Collecting package metadata: ...working... done\n",
      "Solving environment: ...working... done\n",
      "\n",
      "# All requested packages already installed.\n",
      "\n"
     ]
    },
    {
     "name": "stderr",
     "output_type": "stream",
     "text": [
      "WARNING: The conda.compat module is deprecated and will be removed in a future release.\n"
     ]
    }
   ],
   "source": [
    "!conda install -y -q pymssql"
   ]
  },
  {
   "cell_type": "code",
   "execution_count": 12,
   "metadata": {},
   "outputs": [],
   "source": [
    "import pymssql"
   ]
  },
  {
   "cell_type": "markdown",
   "metadata": {},
   "source": [
    "### Connect to sql database in azure"
   ]
  },
  {
   "cell_type": "code",
   "execution_count": 19,
   "metadata": {},
   "outputs": [],
   "source": [
    "cnx = {'host':'parametertesting.database.windows.net',\n",
    "       'username':'blessonj@parametertesting',\n",
    "       'password':'',\n",
    "       'database':'parametertest'}\n",
    "\n",
    "conn = pymssql.connect(cnx['host'],cnx['username'],cnx['password'],cnx['database'])\n",
    "conn.close()"
   ]
  },
  {
   "cell_type": "markdown",
   "metadata": {},
   "source": [
    "### Create the table"
   ]
  },
  {
   "cell_type": "code",
   "execution_count": 20,
   "metadata": {},
   "outputs": [],
   "source": [
    "# open connection\n",
    "conn = pymssql.connect(cnx['host'],cnx['username'],cnx['password'],cnx['database'])\n",
    "# open cursor\n",
    "cursor = conn.cursor()\n",
    "# create the table\n",
    "query=\"\"\"create table forum(\n",
    "         member_id int identity(1,1) not null,\n",
    "         member_first_name varchar(100) not null,\n",
    "         member_last_name varchar(100) not null,\n",
    "         forum varchar(100) not null,\n",
    "         profession varchar(100) null\n",
    "         );\"\"\"\n",
    "cursor.execute(query)\n",
    "conn.commit()\n",
    "conn.close()"
   ]
  },
  {
   "cell_type": "code",
   "execution_count": 24,
   "metadata": {},
   "outputs": [
    {
     "name": "stdout",
     "output_type": "stream",
     "text": [
      "insert into forum(member_first_name,member_last_name,forum,profession) \n",
      "             values ('Blesson','John','Data Science','CSA');\n",
      "insert into forum(member_first_name,member_last_name,forum,profession) \n",
      "             values ('Joshua','Blesson','Python','Student');\n",
      "insert into forum(member_first_name,member_last_name,forum,profession) \n",
      "             values ('Daniel','Blesson','Swimming','Pre-Schooler');\n",
      "insert into forum(member_first_name,member_last_name,forum,profession) \n",
      "             values ('Veena','Mathew','R','DBA');\n"
     ]
    }
   ],
   "source": [
    "#initialise the data\n",
    "data=[(\"Blesson\",\"John\",\"Data Science\",\"CSA\"),\n",
    "      (\"Joshua\",\"Blesson\",\"Python\",\"Student\"),\n",
    "      (\"Daniel\",\"Blesson\",\"Swimming\",\"Pre-Schooler\"),\n",
    "      (\"Veena\",\"Mathew\",\"R\",\"DBA\")]\n",
    "\n",
    "query=\"\"\n",
    "\n",
    "# open connection\n",
    "conn = pymssql.connect(cnx['host'],cnx['username'],cnx['password'],cnx['database'])\n",
    "# open cursor\n",
    "cursor = conn.cursor()\n",
    "# Insert statement the table\n",
    "for record in data:\n",
    "    #insert query\n",
    "    query=\"\"\"insert into forum(member_first_name,member_last_name,forum,profession) \n",
    "             values ('{0}','{1}','{2}','{3}');\"\"\".format(record[0],record[1],record[2],record[3])\n",
    "    \n",
    "    print(query)\n",
    "    #execute the query\n",
    "    cursor.execute(query)\n",
    "    \n",
    "# commit the changes\n",
    "conn.commit()\n",
    "\n",
    "# close the connection\n",
    "conn.close()"
   ]
  }
 ],
 "metadata": {
  "kernelspec": {
   "display_name": "Python 3",
   "language": "python",
   "name": "python3"
  },
  "language_info": {
   "codemirror_mode": {
    "name": "ipython",
    "version": 3
   },
   "file_extension": ".py",
   "mimetype": "text/x-python",
   "name": "python",
   "nbconvert_exporter": "python",
   "pygments_lexer": "ipython3",
   "version": "3.7.3"
  }
 },
 "nbformat": 4,
 "nbformat_minor": 2
}
