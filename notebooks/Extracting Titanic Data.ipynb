{
 "cells": [
  {
   "cell_type": "code",
   "execution_count": 1,
   "metadata": {},
   "outputs": [
    {
     "name": "stdout",
     "output_type": "stream",
     "text": [
      "Requirement already satisfied: python-dotenv in c:\\programdata\\anaconda3\\lib\\site-packages (0.10.1)\n"
     ]
    }
   ],
   "source": [
    "# this pip install is required to extract data from .env file\n",
    "!pip install python-dotenv"
   ]
  },
  {
   "cell_type": "code",
   "execution_count": 18,
   "metadata": {},
   "outputs": [],
   "source": [
    "from dotenv import load_dotenv,find_dotenv"
   ]
  },
  {
   "cell_type": "code",
   "execution_count": 17,
   "metadata": {},
   "outputs": [
    {
     "data": {
      "text/plain": [
       "True"
      ]
     },
     "execution_count": 17,
     "metadata": {},
     "output_type": "execute_result"
    }
   ],
   "source": [
    "# The function will walk down the directory to find the location of dotenv file\n",
    "dotenv_path=find_dotenv()\n",
    "# load the entries as environment variable\n",
    "load_dotenv(dotenv_path)"
   ]
  },
  {
   "cell_type": "code",
   "execution_count": 19,
   "metadata": {},
   "outputs": [
    {
     "name": "stdout",
     "output_type": "stream",
     "text": [
      "bjspeaks@gmail.com\n"
     ]
    }
   ],
   "source": [
    "# extracting environment variable using os.environ.get\n",
    "import os\n",
    "KAGGLE_USERNAME = os.environ.get(\"KAGGLE_USERNAME\")\n",
    "print(KAGGLE_USERNAME)"
   ]
  },
  {
   "cell_type": "code",
   "execution_count": 20,
   "metadata": {},
   "outputs": [],
   "source": [
    "import requests\n",
    "from requests import session\n",
    "import os\n",
    "from dotenv import load_dotenv,find_dotenv"
   ]
  },
  {
   "cell_type": "code",
   "execution_count": 21,
   "metadata": {},
   "outputs": [
    {
     "name": "stdout",
     "output_type": "stream",
     "text": [
      "<Response [400]>\n"
     ]
    }
   ],
   "source": [
    "# payload creation\n",
    "## This method did not work\n",
    "'''payload = {\n",
    "    'action': 'submit',\n",
    "    'username': os.environ.get(\"username\"),\n",
    "    'password': os.environ.get(\"key\")\n",
    "}\n",
    "\n",
    "payload = {\n",
    "    'action':'login',\n",
    "    'username': os.environ.get(\"KAGGLE_USERNAME\"),\n",
    "    'password': os.environ.get(\"KAGGLE_PASSWORD\")\n",
    "}\n",
    "\n",
    "# url for the data\n",
    "url = 'https://www.kaggle.com/c/titanic/download/train.csv'\n",
    "\n",
    "## you don't need to use requests.session as session was imported seperately\n",
    "with session() as c:\n",
    "    # post request\n",
    "    r=c.post('https://www.kaggle.com/account/login',data=payload)\n",
    "    print(r)\n",
    "    # get request\n",
    "    #response = c.get(url)\n",
    "    # print response text\n",
    "    #print(response.text)    \n",
    "'''"
   ]
  },
  {
   "cell_type": "code",
   "execution_count": 25,
   "metadata": {},
   "outputs": [
    {
     "name": "stdout",
     "output_type": "stream",
     "text": [
      "Requirement already satisfied: kaggle in c:\\programdata\\anaconda3\\lib\\site-packages (1.5.3)\n",
      "Requirement already satisfied: requests in c:\\programdata\\anaconda3\\lib\\site-packages (from kaggle) (2.21.0)\n",
      "Requirement already satisfied: urllib3<1.25,>=1.21.1 in c:\\programdata\\anaconda3\\lib\\site-packages (from kaggle) (1.24.1)\n",
      "Requirement already satisfied: six>=1.10 in c:\\programdata\\anaconda3\\lib\\site-packages (from kaggle) (1.12.0)\n",
      "Requirement already satisfied: certifi in c:\\programdata\\anaconda3\\lib\\site-packages (from kaggle) (2019.3.9)\n",
      "Requirement already satisfied: python-slugify in c:\\programdata\\anaconda3\\lib\\site-packages (from kaggle) (3.0.2)\n",
      "Requirement already satisfied: tqdm in c:\\programdata\\anaconda3\\lib\\site-packages (from kaggle) (4.31.1)\n",
      "Requirement already satisfied: python-dateutil in c:\\programdata\\anaconda3\\lib\\site-packages (from kaggle) (2.8.0)\n",
      "Requirement already satisfied: idna<2.9,>=2.5 in c:\\programdata\\anaconda3\\lib\\site-packages (from requests->kaggle) (2.8)\n",
      "Requirement already satisfied: chardet<3.1.0,>=3.0.2 in c:\\programdata\\anaconda3\\lib\\site-packages (from requests->kaggle) (3.0.4)\n",
      "Requirement already satisfied: text-unidecode==1.2 in c:\\programdata\\anaconda3\\lib\\site-packages (from python-slugify->kaggle) (1.2)\n"
     ]
    }
   ],
   "source": [
    "!pip install kaggle"
   ]
  },
  {
   "cell_type": "code",
   "execution_count": 28,
   "metadata": {},
   "outputs": [],
   "source": [
    "import os\n",
    "from dotenv import load_dotenv,find_dotenv"
   ]
  },
  {
   "cell_type": "code",
   "execution_count": 45,
   "metadata": {},
   "outputs": [
    {
     "name": "stdout",
     "output_type": "stream",
     "text": [
      "Downloading train.csv to /DSA_Role/PluralSight/DataScience/python-data-science/module2/titanic/data/raw\n",
      "\n",
      "Downloading test.csv to /DSA_Role/PluralSight/DataScience/python-data-science/module2/titanic/data/raw\n",
      "\n",
      "Downloading gender_submission.csv to /DSA_Role/PluralSight/DataScience/python-data-science/module2/titanic/data/raw\n",
      "\n"
     ]
    },
    {
     "name": "stderr",
     "output_type": "stream",
     "text": [
      "\n",
      "  0%|          | 0.00/59.8k [00:00<?, ?B/s]\n",
      "100%|##########| 59.8k/59.8k [00:00<00:00, 5.10MB/s]\n",
      "\n",
      "  0%|          | 0.00/28.0k [00:00<?, ?B/s]\n",
      "100%|##########| 28.0k/28.0k [00:00<00:00, 1.91MB/s]\n",
      "\n",
      "  0%|          | 0.00/3.18k [00:00<?, ?B/s]\n",
      "100%|##########| 3.18k/3.18k [00:00<00:00, 694kB/s]\n"
     ]
    }
   ],
   "source": [
    "os.environ['KAGGLE_USERNAME'] = os.environ.get(\"username\")\n",
    "os.environ['KAGGLE_KEY'] = os.environ.get(\"key\")\n",
    "!kaggle competitions download titanic -p \"/DSA_Role/PluralSight/DataScience/python-data-science/module2/titanic/data/raw\""
   ]
  },
  {
   "cell_type": "code",
   "execution_count": 35,
   "metadata": {},
   "outputs": [
    {
     "name": "stdout",
     "output_type": "stream",
     "text": [
      "ref                                                deadline             category            reward  teamCount  userHasEntered  \n",
      "-------------------------------------------------  -------------------  ---------------  ---------  ---------  --------------  \n",
      "digit-recognizer                                   2030-01-01 00:00:00  Getting Started  Knowledge       2703           False  \n",
      "titanic                                            2030-01-01 00:00:00  Getting Started  Knowledge      11004            True  \n",
      "house-prices-advanced-regression-techniques        2030-01-01 00:00:00  Getting Started  Knowledge       4453           False  \n",
      "imagenet-object-localization-challenge             2029-12-31 07:00:00  Research         Knowledge         36           False  \n",
      "competitive-data-science-predict-future-sales      2019-12-31 23:59:00  Playground           Kudos       2708           False  \n",
      "two-sigma-financial-news                           2019-07-15 23:59:00  Featured          $100,000       2927           False  \n",
      "aerial-cactus-identification                       2019-07-08 23:59:00  Playground       Knowledge        283           False  \n",
      "jigsaw-unintended-bias-in-toxicity-classification  2019-06-26 23:59:00  Featured           $65,000        590           False  \n",
      "inaturalist-2019-fgvc6                             2019-06-10 23:59:00  Research             Kudos         35           False  \n",
      "freesound-audio-tagging-2019                       2019-06-10 11:59:00  Research            $5,000        121           False  \n",
      "iwildcam-2019-fgvc6                                2019-06-07 23:59:00  Playground           Kudos         75           False  \n",
      "imet-2019-fgvc6                                    2019-06-04 23:59:00  Research             Kudos        160           False  \n",
      "LANL-Earthquake-Prediction                         2019-06-03 23:59:00  Research           $50,000       2412           False  \n",
      "landmark-recognition-2019                          2019-06-03 23:59:00  Research           $25,000         18           False  \n",
      "landmark-retrieval-2019                            2019-06-03 23:59:00  Research           $25,000         19           False  \n",
      "tmdb-box-office-prediction                         2019-05-30 23:59:00  Playground       Knowledge        639           False  \n",
      "dont-overfit-ii                                    2019-05-07 23:59:00  Playground            Swag       1555           False  \n",
      "ciphertext-challenge-ii                            2019-04-25 23:59:00  Playground            Swag         33           False  \n",
      "data-science-for-good-careervillage                2019-04-23 23:59:00  Analytics          $15,000          0           False  \n",
      "gendered-pronoun-resolution                        2019-04-22 23:59:00  Research           $25,000        677           False  \n"
     ]
    }
   ],
   "source": [
    "!kaggle competitions list"
   ]
  }
 ],
 "metadata": {
  "kernelspec": {
   "display_name": "Python 3",
   "language": "python",
   "name": "python3"
  },
  "language_info": {
   "codemirror_mode": {
    "name": "ipython",
    "version": 3
   },
   "file_extension": ".py",
   "mimetype": "text/x-python",
   "name": "python",
   "nbconvert_exporter": "python",
   "pygments_lexer": "ipython3",
   "version": "3.7.3"
  }
 },
 "nbformat": 4,
 "nbformat_minor": 2
}
