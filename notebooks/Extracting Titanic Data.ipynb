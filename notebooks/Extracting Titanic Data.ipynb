{
 "cells": [
  {
   "cell_type": "code",
   "execution_count": 1,
   "metadata": {},
   "outputs": [
    {
     "name": "stdout",
     "output_type": "stream",
     "text": [
      "Requirement already satisfied: python-dotenv in c:\\programdata\\anaconda3\\lib\\site-packages (0.10.1)\n"
     ]
    }
   ],
   "source": [
    "# this pip install is required to extract data from .env file\n",
    "!pip install python-dotenv"
   ]
  },
  {
   "cell_type": "code",
   "execution_count": 2,
   "metadata": {},
   "outputs": [],
   "source": [
    "from dotenv import load_dotenv,find_dotenv"
   ]
  },
  {
   "cell_type": "code",
   "execution_count": 3,
   "metadata": {},
   "outputs": [
    {
     "data": {
      "text/plain": [
       "True"
      ]
     },
     "execution_count": 3,
     "metadata": {},
     "output_type": "execute_result"
    }
   ],
   "source": [
    "# The function will walk down the directory to find the location of dotenv file\n",
    "dotenv_path=find_dotenv()\n",
    "# load the entries as environment variable\n",
    "load_dotenv(dotenv_path)"
   ]
  },
  {
   "cell_type": "code",
   "execution_count": 4,
   "metadata": {},
   "outputs": [
    {
     "name": "stdout",
     "output_type": "stream",
     "text": [
      "bjspeaks@gmail.com\n"
     ]
    }
   ],
   "source": [
    "# extracting environment variable using os.environ.get\n",
    "import os\n",
    "KAGGLE_USERNAME = os.environ.get(\"KAGGLE_USERNAME\")\n",
    "print(KAGGLE_USERNAME)"
   ]
  },
  {
   "cell_type": "code",
   "execution_count": 5,
   "metadata": {},
   "outputs": [],
   "source": [
    "import requests\n",
    "from requests import session\n",
    "import os\n",
    "from dotenv import load_dotenv,find_dotenv"
   ]
  },
  {
   "cell_type": "code",
   "execution_count": 15,
   "metadata": {},
   "outputs": [
    {
     "name": "stdout",
     "output_type": "stream",
     "text": [
      "<Response [400]>\n"
     ]
    }
   ],
   "source": [
    "# payload creation\n",
    "payload = {\n",
    "    'action': 'sign in',\n",
    "    'username': os.environ.get(\"username\"),\n",
    "    'password': os.environ.get(\"key\")\n",
    "}\n",
    "\n",
    "'''\n",
    "payload = {\n",
    "    'action':'login',\n",
    "}\n",
    "'''\n",
    "# url for the data\n",
    "url = 'https://www.kaggle.com/c/titanic/download/train.csv'\n",
    "\n",
    "## you don't need to use requests.session as session was imported seperately\n",
    "with session() as c:\n",
    "    # post request\n",
    "    r=c.post('https://www.kaggle.com/account/login',data=payload)\n",
    "    print(r)\n",
    "    # get request\n",
    "    #response = c.get(url)\n",
    "    # print response text\n",
    "    #print(response.text)    "
   ]
  },
  {
   "cell_type": "code",
   "execution_count": null,
   "metadata": {},
   "outputs": [],
   "source": []
  }
 ],
 "metadata": {
  "kernelspec": {
   "display_name": "Python 3",
   "language": "python",
   "name": "python3"
  },
  "language_info": {
   "codemirror_mode": {
    "name": "ipython",
    "version": 3
   },
   "file_extension": ".py",
   "mimetype": "text/x-python",
   "name": "python",
   "nbconvert_exporter": "python",
   "pygments_lexer": "ipython3",
   "version": "3.7.3"
  }
 },
 "nbformat": 4,
 "nbformat_minor": 2
}
