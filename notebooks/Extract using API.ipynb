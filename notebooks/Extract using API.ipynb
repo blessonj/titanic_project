{
 "cells": [
  {
   "cell_type": "code",
   "execution_count": 18,
   "metadata": {},
   "outputs": [],
   "source": [
    "import requests"
   ]
  },
  {
   "cell_type": "code",
   "execution_count": 19,
   "metadata": {},
   "outputs": [],
   "source": [
    "# url\n",
    "url = \"https://xecdapi.xe.com/v1/convert_from.json/?from=GBP&to=CAD,EUR&amount=110.00\"\n",
    "#auth = HTTPBasicAuth('personaltesting375447466','34rrid75knup0l58g7nbqttfr2')"
   ]
  },
  {
   "cell_type": "code",
   "execution_count": 20,
   "metadata": {},
   "outputs": [],
   "source": [
    "result=requests.get(url,auth=('personaltesting375447466','34rrid75knup0l58g7nbqttfr2'))"
   ]
  },
  {
   "cell_type": "code",
   "execution_count": 21,
   "metadata": {},
   "outputs": [
    {
     "data": {
      "text/plain": [
       "200"
      ]
     },
     "execution_count": 21,
     "metadata": {},
     "output_type": "execute_result"
    }
   ],
   "source": [
    "result.status_code"
   ]
  },
  {
   "cell_type": "code",
   "execution_count": 22,
   "metadata": {},
   "outputs": [
    {
     "data": {
      "text/plain": [
       "{'Date': 'Mon, 08 Apr 2019 20:32:38 GMT', 'Content-Type': 'application/json; charset=utf-8', 'Content-Length': '245', 'Connection': 'keep-alive', 'Access-Control-Allow-Origin': '*', 'ETag': 'c055b7ea-e69e-4252-a6d4-801691e8c4f0', 'Last-Modified': 'Mon, 08 Apr 2019 00:00:00 UTC', 'X-RateLimit-Limit': '900', 'X-RateLimit-Remaining': '899', 'X-RateLimit-Reset': '1554756300', 'X-RateRequest-Limit': '10000', 'X-RateRequest-Remaining': '9996', 'X-RateRequest-Reset': '1556668800'}"
      ]
     },
     "execution_count": 22,
     "metadata": {},
     "output_type": "execute_result"
    }
   ],
   "source": [
    "result.headers"
   ]
  },
  {
   "cell_type": "code",
   "execution_count": 23,
   "metadata": {},
   "outputs": [
    {
     "data": {
      "text/plain": [
       "'{\"terms\":\"http://www.xe.com/legal/dfs.php\",\"privacy\":\"http://www.xe.com/privacy.php\",\"from\":\"GBP\",\"amount\":110.0,\"timestamp\":\"2019-04-08T00:00:00Z\",\"to\":[{\"quotecurrency\":\"EUR\",\"mid\":127.8367131029},{\"quotecurrency\":\"CAD\",\"mid\":191.7829450076}]}'"
      ]
     },
     "execution_count": 23,
     "metadata": {},
     "output_type": "execute_result"
    }
   ],
   "source": [
    "result.text"
   ]
  },
  {
   "cell_type": "code",
   "execution_count": null,
   "metadata": {},
   "outputs": [],
   "source": []
  }
 ],
 "metadata": {
  "kernelspec": {
   "display_name": "Python 3",
   "language": "python",
   "name": "python3"
  },
  "language_info": {
   "codemirror_mode": {
    "name": "ipython",
    "version": 3
   },
   "file_extension": ".py",
   "mimetype": "text/x-python",
   "name": "python",
   "nbconvert_exporter": "python",
   "pygments_lexer": "ipython3",
   "version": "3.7.3"
  }
 },
 "nbformat": 4,
 "nbformat_minor": 2
}
